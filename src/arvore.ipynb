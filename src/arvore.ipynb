{
 "cells": [
  {
   "cell_type": "markdown",
   "id": "e9a63bea",
   "metadata": {},
   "source": [
    "## Imports + caminhos"
   ]
  },
  {
   "cell_type": "code",
   "execution_count": 1,
   "id": "185b26e0",
   "metadata": {},
   "outputs": [],
   "source": [
    "# ===== Imports =====\n",
    "import os\n",
    "import pandas as pd\n",
    "import numpy as np\n",
    "import matplotlib.pyplot as plt\n",
    "\n",
    "from sklearn.model_selection import train_test_split\n",
    "from sklearn.compose import ColumnTransformer\n",
    "from sklearn.preprocessing import KBinsDiscretizer\n",
    "from sklearn.impute import SimpleImputer\n",
    "from sklearn.pipeline import Pipeline\n",
    "from sklearn.tree import DecisionTreeClassifier, plot_tree\n",
    "from sklearn.metrics import (\n",
    "    classification_report, confusion_matrix, ConfusionMatrixDisplay, accuracy_score\n",
    ")\n",
    "\n",
    "# ===== Caminhos =====\n",
    "DATA_PATH = \"../data/creditcard.csv\"     # ajuste se precisar\n",
    "IMG_DIR   = \"../docs/Atividade1/img\"     # ajuste se sua pasta for outra\n",
    "os.makedirs(IMG_DIR, exist_ok=True)\n"
   ]
  },
  {
   "cell_type": "markdown",
   "id": "ad801683",
   "metadata": {},
   "source": [
    "## Etapa 1 — carregamento e limpeza"
   ]
  },
  {
   "cell_type": "code",
   "execution_count": null,
   "id": "a8e22e7e",
   "metadata": {},
   "outputs": [],
   "source": [
    "df = pd.read_csv(DATA_PATH)\n",
    "df.columns = [c.strip().lower() for c in df.columns]   # time, v1..v28, amount, class\n",
    "\n",
    "# alvo e features\n",
    "y = df[\"class\"]                 # 0 = legítima, 1 = fraude\n",
    "X = df.drop(columns=[\"class\"])  # todo o resto são numéricos\n",
    "\n",
    "print(\"shape:\", df.shape)\n",
    "print(\"fraudes (%):\", (y==1).mean()*100)"
   ]
  },
  {
   "cell_type": "markdown",
   "id": "93d072f2",
   "metadata": {},
   "source": [
    "## EDA"
   ]
  },
  {
   "cell_type": "code",
   "execution_count": 3,
   "id": "72a46b3b",
   "metadata": {},
   "outputs": [],
   "source": [
    "# distribuição do alvo\n",
    "plt.figure()\n",
    "y.value_counts().rename({0:\"legit\", 1:\"fraud\"}).plot(kind=\"bar\")\n",
    "plt.title(\"Distribuição do alvo (Class)\")\n",
    "plt.tight_layout()\n",
    "plt.savefig(os.path.join(IMG_DIR, \"dist_target.png\"))\n",
    "plt.close()\n",
    "\n",
    "# histograma simples do Amount\n",
    "plt.figure()\n",
    "df[\"amount\"].dropna().plot(kind=\"hist\", bins=50)\n",
    "plt.title(\"Histograma de Amount\")\n",
    "plt.tight_layout()\n",
    "plt.savefig(os.path.join(IMG_DIR, \"hist_amount.png\"))\n",
    "plt.close()\n",
    "\n",
    "# estatísticas básicas úteis (opcional)\n",
    "df[[\"time\",\"amount\"]].describe().to_csv(os.path.join(IMG_DIR, \"basic_stats.csv\"))"
   ]
  },
  {
   "cell_type": "markdown",
   "id": "f047c252",
   "metadata": {},
   "source": [
    "## Pré-processamento (binário 0/1) + Split"
   ]
  },
  {
   "cell_type": "code",
   "execution_count": 4,
   "id": "518cdea7",
   "metadata": {},
   "outputs": [],
   "source": [
    "# Requisito: transformar tudo em 0/1 (one-hot de faixas)\n",
    "# Estratégia simples: dividir cada coluna numérica em 5 faixas (quantis).\n",
    "num_cols = X.columns.tolist()\n",
    "\n",
    "preproc = ColumnTransformer(\n",
    "    transformers=[\n",
    "        (\"num\", Pipeline(steps=[\n",
    "            (\"impute\", SimpleImputer(strategy=\"median\")),              # valores ausentes -> mediana\n",
    "            (\"bin\", KBinsDiscretizer(n_bins=5, encode=\"onehot-dense\",  # 5 quantis -> colunas 0/1\n",
    "                                     strategy=\"quantile\"))\n",
    "        ]), num_cols),\n",
    "    ],\n",
    "    remainder=\"drop\"\n",
    ")\n",
    "\n",
    "# Split 70/30 estratificado\n",
    "X_train, X_test, y_train, y_test = train_test_split(\n",
    "    X, y, test_size=0.30, random_state=42, stratify=y\n",
    ")\n"
   ]
  },
  {
   "cell_type": "markdown",
   "id": "cfa2eb85",
   "metadata": {},
   "source": [
    "## Treinamento + avaliação"
   ]
  },
  {
   "cell_type": "code",
   "execution_count": 5,
   "id": "0cde09b8",
   "metadata": {},
   "outputs": [
    {
     "name": "stderr",
     "output_type": "stream",
     "text": [
      "c:\\Users\\jp14h\\OneDrive\\Documentos\\GitHub\\repo-humberto\\env\\Lib\\site-packages\\sklearn\\preprocessing\\_discretization.py:296: FutureWarning: The current default behavior, quantile_method='linear', will be changed to quantile_method='averaged_inverted_cdf' in scikit-learn version 1.9 to naturally support sample weight equivalence properties by default. Pass quantile_method='averaged_inverted_cdf' explicitly to silence this warning.\n",
      "  warnings.warn(\n"
     ]
    },
    {
     "name": "stdout",
     "output_type": "stream",
     "text": [
      "Acurácia: 0.9454\n"
     ]
    }
   ],
   "source": [
    "# Árvore simples (poucos hiperparâmetros) — legível\n",
    "clf = DecisionTreeClassifier(\n",
    "    criterion=\"gini\",\n",
    "    class_weight=\"balanced\",   # ajuda na classe rara (fraude)\n",
    "    random_state=42,\n",
    "    max_depth=5                # controla complexidade (simples!)\n",
    ")\n",
    "\n",
    "pipe = Pipeline([(\"prep\", preproc), (\"clf\", clf)])\n",
    "pipe.fit(X_train, y_train)\n",
    "\n",
    "# Avaliação\n",
    "y_pred = pipe.predict(X_test)\n",
    "acc    = accuracy_score(y_test, y_pred)\n",
    "print(f\"Acurácia: {acc:.4f}\")\n",
    "\n",
    "# Relatório em arquivo (texto)\n",
    "with open(os.path.join(IMG_DIR, \"classification_report.txt\"), \"w\", encoding=\"utf-8\") as f:\n",
    "    f.write(f\"Accuracy: {acc:.4f}\\n\\n\")\n",
    "    f.write(classification_report(y_test, y_pred, digits=3))\n",
    "\n",
    "# Matriz de confusão (imagem)\n",
    "cm = confusion_matrix(y_test, y_pred, labels=pipe.named_steps[\"clf\"].classes_)\n",
    "ConfusionMatrixDisplay(cm, display_labels=pipe.named_steps[\"clf\"].classes_).plot(xticks_rotation=45)\n",
    "plt.title(f\"Matriz de Confusão (Acc={acc:.3f})\")\n",
    "plt.tight_layout()\n",
    "plt.savefig(os.path.join(IMG_DIR, \"matriz_confusao.png\"))\n",
    "plt.close()\n"
   ]
  },
  {
   "cell_type": "markdown",
   "id": "59bb72bf",
   "metadata": {},
   "source": [
    "## Visual da árvore"
   ]
  },
  {
   "cell_type": "code",
   "execution_count": 6,
   "id": "43f783f7",
   "metadata": {},
   "outputs": [
    {
     "name": "stderr",
     "output_type": "stream",
     "text": [
      "c:\\Users\\jp14h\\OneDrive\\Documentos\\GitHub\\repo-humberto\\env\\Lib\\site-packages\\sklearn\\preprocessing\\_discretization.py:296: FutureWarning: The current default behavior, quantile_method='linear', will be changed to quantile_method='averaged_inverted_cdf' in scikit-learn version 1.9 to naturally support sample weight equivalence properties by default. Pass quantile_method='averaged_inverted_cdf' explicitly to silence this warning.\n",
      "  warnings.warn(\n"
     ]
    },
    {
     "name": "stdout",
     "output_type": "stream",
     "text": [
      "Arquivos salvos em: ../docs/Atividade1/img\n"
     ]
    }
   ],
   "source": [
    "# Pegar nomes das colunas após o one-hot (faixas)\n",
    "preproc.fit(X_train)\n",
    "feat_names = preproc.get_feature_names_out()\n",
    "\n",
    "# Treinar uma árvore pequena só para visualizar os nós iniciais\n",
    "from sklearn.tree import DecisionTreeClassifier, plot_tree\n",
    "Xt = preproc.transform(X_train)\n",
    "arvore = DecisionTreeClassifier(criterion=\"gini\", class_weight=\"balanced\", random_state=42, max_depth=3)\n",
    "arvore.fit(Xt, y_train)\n",
    "\n",
    "plt.figure(figsize=(20, 10))\n",
    "plot_tree(arvore, max_depth=3, filled=True, class_names=[\"legit\",\"fraud\"], feature_names=feat_names)\n",
    "plt.title(\"Árvore de Decisão (níveis iniciais) — features binárias\")\n",
    "plt.tight_layout()\n",
    "plt.savefig(os.path.join(IMG_DIR, \"arvore.png\"))\n",
    "plt.close()\n",
    "\n",
    "print(\"Arquivos salvos em:\", IMG_DIR)\n"
   ]
  }
 ],
 "metadata": {
  "kernelspec": {
   "display_name": "env",
   "language": "python",
   "name": "python3"
  },
  "language_info": {
   "codemirror_mode": {
    "name": "ipython",
    "version": 3
   },
   "file_extension": ".py",
   "mimetype": "text/x-python",
   "name": "python",
   "nbconvert_exporter": "python",
   "pygments_lexer": "ipython3",
   "version": "3.13.3"
  }
 },
 "nbformat": 4,
 "nbformat_minor": 5
}
