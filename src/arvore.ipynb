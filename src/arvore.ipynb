{
 "cells": [
  {
   "cell_type": "code",
   "execution_count": 6,
   "id": "ee9fa3d9",
   "metadata": {},
   "outputs": [],
   "source": [
    "import os\n",
    "import pandas as pd\n",
    "import numpy as np\n",
    "import matplotlib.pyplot as plt\n",
    "\n",
    "from sklearn.model_selection import train_test_split\n",
    "from sklearn.compose import ColumnTransformer\n",
    "from sklearn.preprocessing import StandardScaler\n",
    "from sklearn.feature_extraction.text import TfidfVectorizer\n",
    "from sklearn.pipeline import Pipeline\n",
    "from sklearn.tree import DecisionTreeClassifier, plot_tree\n",
    "from sklearn.metrics import classification_report, confusion_matrix, ConfusionMatrixDisplay, accuracy_score\n",
    "\n",
    "\n",
    "DATA_PATH = '../data/cannabis.csv'\n",
    "IMG_DIR = \"../docs/roteiro1/img\""
   ]
  },
  {
   "cell_type": "markdown",
   "id": "ba9caa6e",
   "metadata": {},
   "source": [
    "## Etapa 1: carregamento e limpeza\n"
   ]
  },
  {
   "cell_type": "code",
   "execution_count": 9,
   "id": "cdf13ff7",
   "metadata": {},
   "outputs": [],
   "source": [
    "df = pd.read_csv(DATA_PATH)\n",
    "df.columns = [c.strip().replace(\" \", \"_\").lower() for c in df.columns]\n",
    "\n",
    "colunas = [\"strain\", \"type\", \"rating\", \"effects\", \"flavor\"]\n",
    "erros = set(colunas) - set(df.columns)\n",
    "if erros:\n",
    "    raise ValueError(f\"Colunas ausentes no DataFrame: {erros}\")\n",
    "\n",
    "#Padronizar o rating\n",
    "df['rating'] = (\n",
    "    df['rating'].astype(str)\n",
    "    .str.replace(\",\", \".\")\n",
    "    .astype(float)\n",
    ")\n",
    "\n",
    "for col in [\"strain\", \"effects\", \"flavor\"]:\n",
    "    df[col] = df[col].fillna(\"\").str.split(\",\").apply(lambda x: [s.strip() for s in x if s.strip()])\n",
    "    \n",
    "#Remover linhas com valores ausentes\n",
    "df = df.dropna()"
   ]
  },
  {
   "cell_type": "markdown",
   "id": "86a75835",
   "metadata": {},
   "source": [
    "## salvar estatísticas"
   ]
  },
  {
   "cell_type": "code",
   "execution_count": null,
   "id": "f848a81b",
   "metadata": {},
   "outputs": [],
   "source": [
    "df[[\"rating\"]].describe().to_csv(os.path.join(IMG_DIR, \"rating_describe.csv\"))"
   ]
  },
  {
   "cell_type": "markdown",
   "id": "5777f3b9",
   "metadata": {},
   "source": [
    "## Graficos simples para visualização"
   ]
  },
  {
   "cell_type": "code",
   "execution_count": 11,
   "id": "73555898",
   "metadata": {},
   "outputs": [],
   "source": [
    "plt.figure()\n",
    "df[\"type\"].value_counts().plot(kind=\"bar\")\n",
    "plt.title(\"Class balance (Type)\")\n",
    "plt.ylabel(\"Count\")\n",
    "plt.tight_layout()\n",
    "plt.savefig(os.path.join(IMG_DIR, \"dist_classe.png\"))\n",
    "plt.close()\n",
    "\n",
    "plt.figure()\n",
    "df[\"rating\"].dropna().plot(kind=\"hist\", bins=20)\n",
    "plt.title(\"Rating histogram\")\n",
    "plt.xlabel(\"rating\")\n",
    "plt.tight_layout()\n",
    "plt.savefig(os.path.join(IMG_DIR, \"hist_rating.png\"))\n",
    "plt.close()"
   ]
  },
  {
   "cell_type": "markdown",
   "id": "5c73874c",
   "metadata": {},
   "source": [
    "## Pré-processamento"
   ]
  },
  {
   "cell_type": "code",
   "execution_count": 12,
   "id": "f818499f",
   "metadata": {},
   "outputs": [],
   "source": [
    "y = df[\"type\"].astype(str)\n",
    "\n",
    "# concatenamos textos (SEM descrição)\n",
    "df[\"text_all\"] = (\n",
    "    df[\"effects\"].astype(str) + \" \" +\n",
    "    df[\"flavor\"].astype(str) + \" \" +\n",
    "    df[\"strain\"].astype(str)\n",
    ")\n",
    "\n",
    "X = df[[\"rating\", \"text_all\"]]"
   ]
  },
  {
   "cell_type": "markdown",
   "id": "41061a09",
   "metadata": {},
   "source": [
    "## Divisão dos Dados (treino e teste)"
   ]
  },
  {
   "cell_type": "code",
   "execution_count": 16,
   "id": "f4d3525c",
   "metadata": {},
   "outputs": [],
   "source": [
    "X_train, X_test, y_train, y_test = train_test_split(\n",
    "    X, y, test_size=0.30, random_state=42, stratify=y\n",
    ")"
   ]
  },
  {
   "cell_type": "markdown",
   "id": "39a31949",
   "metadata": {},
   "source": [
    "## Treinamento do Modelo"
   ]
  },
  {
   "cell_type": "code",
   "execution_count": null,
   "id": "e66f2c48",
   "metadata": {},
   "outputs": [],
   "source": [
    "preproc = ColumnTransformer(\n",
    "    transformers=[\n",
    "        (\"num\", StandardScaler(with_mean=False), [\"rating\"]),\n",
    "        (\"txt\", TfidfVectorizer(lowercase=True, max_features=10000, ngram_range=(1,2)), \"text_all\"),\n",
    "    ],\n",
    "    remainder=\"drop\"\n",
    ")\n",
    "\n",
    "clf = DecisionTreeClassifier(\n",
    "    criterion=\"gini\",\n",
    "    random_state=42\n",
    ")\n",
    "\n",
    "pipe = Pipeline([(\"prep\", preproc), (\"clf\", clf)])\n",
    "pipe.fit(X_train, y_train)"
   ]
  },
  {
   "cell_type": "markdown",
   "id": "427ffb3b",
   "metadata": {},
   "source": [
    "## Avaliação do Modelo"
   ]
  },
  {
   "cell_type": "code",
   "execution_count": 18,
   "id": "bb8a0797",
   "metadata": {},
   "outputs": [],
   "source": [
    "y_pred = pipe.predict(X_test)\n",
    "acc = accuracy_score(y_test, y_pred)\n",
    "\n",
    "report = classification_report(y_test, y_pred, digits=3)\n",
    "with open(os.path.join(IMG_DIR, \"classification_report.txt\"), \"w\", encoding=\"utf-8\") as f:\n",
    "    f.write(f\"Accuracy: {acc:.4f}\\n\\n{report}\")\n",
    "\n",
    "cm = confusion_matrix(y_test, y_pred, labels=pipe.classes_)\n",
    "disp = ConfusionMatrixDisplay(confusion_matrix=cm, display_labels=pipe.classes_)\n",
    "disp.plot(include_values=True, xticks_rotation=45)\n",
    "plt.title(f\"Confusion Matrix (Acc={acc:.3f})\")\n",
    "plt.tight_layout()\n",
    "plt.savefig(os.path.join(IMG_DIR, \"matriz_confusao.png\"))\n",
    "plt.close()"
   ]
  },
  {
   "cell_type": "markdown",
   "id": "c68edc06",
   "metadata": {},
   "source": [
    "## Plot dos primeiros níveis da árvore (treinando DT puro nas features transformadas)"
   ]
  },
  {
   "cell_type": "code",
   "execution_count": null,
   "id": "5515f705",
   "metadata": {},
   "outputs": [],
   "source": [
    "Xt = preproc.fit_transform(X_train)\n",
    "clf2 = DecisionTreeClassifier(criterion=\"gini\", random_state=42)\n",
    "clf2.fit(Xt, y_train)\n",
    "\n",
    "plt.figure(figsize=(16, 10))\n",
    "plot_tree(clf2, max_depth=3, filled=True, class_names=clf2.classes_)\n",
    "plt.title(\"Decision Tree (top levels)\")\n",
    "plt.tight_layout()\n",
    "plt.savefig(os.path.join(IMG_DIR, \"arvore.png\"))\n",
    "plt.close()\n",
    "\n",
    "print(f\"OK! Accuracy: {acc:.4f}\")\n",
    "print(\"Outputs em docs/roteiro1/img/\")"
   ]
  }
 ],
 "metadata": {
  "kernelspec": {
   "display_name": "env (3.13.2)",
   "language": "python",
   "name": "python3"
  },
  "language_info": {
   "codemirror_mode": {
    "name": "ipython",
    "version": 3
   },
   "file_extension": ".py",
   "mimetype": "text/x-python",
   "name": "python",
   "nbconvert_exporter": "python",
   "pygments_lexer": "ipython3",
   "version": "3.13.2"
  }
 },
 "nbformat": 4,
 "nbformat_minor": 5
}
